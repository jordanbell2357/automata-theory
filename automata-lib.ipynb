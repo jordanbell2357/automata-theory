{
 "cells": [
  {
   "cell_type": "code",
   "execution_count": 11,
   "metadata": {},
   "outputs": [
    {
     "name": "stdout",
     "output_type": "stream",
     "text": [
      "The input 00101B is accepted and the final state is TMConfiguration('f', TMTape('00001B', 'B', 3)).\n",
      "The final tape content is: TMTape('00001B', 'B', 3)\n"
     ]
    }
   ],
   "source": [
    "from automata.tm.dtm import DTM\n",
    "import automata.tm.exceptions as tmexceptions\n",
    "\n",
    "# DTM which scans input right, looking for a 1. If it finds one, changes it to a 0, goes to final state f, and halts.\n",
    "# If it reaches a blank, changes it to a 1 and moves left.\n",
    "dtm = DTM(\n",
    "    states={'q', 'f'},\n",
    "    input_symbols={'0', '1'},\n",
    "    tape_symbols={'0', '1', 'B'},\n",
    "    transitions={\n",
    "        'q': {\n",
    "            '0': ('q', '0', 'R'),\n",
    "            '1': ('f', '0', 'R'),\n",
    "            'B': ('q', '1', 'L'),\n",
    "        }\n",
    "    },\n",
    "    initial_state='q',\n",
    "    blank_symbol='B',\n",
    "    final_states={'f'}\n",
    ")\n",
    "\n",
    "# Example input to test the DTM\n",
    "input_str = \"00101B\"\n",
    "\n",
    "# Try reading the input and print the result\n",
    "try:\n",
    "    result = dtm.read_input(input_str)\n",
    "    print(f\"The input {input_str} is accepted and the final state is {result}.\")\n",
    "    print(f\"The final tape content is: {result.tape}\")\n",
    "except RejectionException:\n",
    "    print(f\"The input {input_str} is rejected.\")\n"
   ]
  },
  {
   "cell_type": "code",
   "execution_count": null,
   "metadata": {},
   "outputs": [],
   "source": []
  }
 ],
 "metadata": {
  "kernelspec": {
   "display_name": "xarray",
   "language": "python",
   "name": "python3"
  },
  "language_info": {
   "codemirror_mode": {
    "name": "ipython",
    "version": 3
   },
   "file_extension": ".py",
   "mimetype": "text/x-python",
   "name": "python",
   "nbconvert_exporter": "python",
   "pygments_lexer": "ipython3",
   "version": "3.9.16"
  },
  "orig_nbformat": 4
 },
 "nbformat": 4,
 "nbformat_minor": 2
}
