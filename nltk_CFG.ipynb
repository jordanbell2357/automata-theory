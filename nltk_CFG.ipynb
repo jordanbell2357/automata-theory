{
  "nbformat": 4,
  "nbformat_minor": 0,
  "metadata": {
    "colab": {
      "provenance": [],
      "authorship_tag": "ABX9TyPDL3/Pg+TEGAGQc3Jj2LGI",
      "include_colab_link": true
    },
    "kernelspec": {
      "name": "python3",
      "display_name": "Python 3"
    },
    "language_info": {
      "name": "python"
    }
  },
  "cells": [
    {
      "cell_type": "markdown",
      "metadata": {
        "id": "view-in-github",
        "colab_type": "text"
      },
      "source": [
        "<a href=\"https://colab.research.google.com/github/jordanbell2357/automata-theory/blob/main/nltk_CFG.ipynb\" target=\"_parent\"><img src=\"https://colab.research.google.com/assets/colab-badge.svg\" alt=\"Open In Colab\"/></a>"
      ]
    },
    {
      "cell_type": "code",
      "source": [
        "import nltk\n",
        "from nltk import Tree\n",
        "\n",
        "# Define the parse tree\n",
        "parse_tree = Tree('S', [\n",
        "    Tree('A', [\n",
        "        'a',\n",
        "        Tree('S', [\n",
        "            Tree('A', ['a']),\n",
        "            Tree('B', [\n",
        "                'b',\n",
        "                Tree('A', ['a'])\n",
        "            ])\n",
        "        ])\n",
        "    ]),\n",
        "    Tree('B', [\n",
        "        'b',\n",
        "        Tree('A', ['a'])\n",
        "    ])\n",
        "])\n",
        "\n",
        "# Print the parse tree\n",
        "parse_tree.pretty_print()\n"
      ],
      "metadata": {
        "colab": {
          "base_uri": "https://localhost:8080/"
        },
        "id": "Am_gDxlV-TfY",
        "outputId": "ce0c2e58-bcb3-4869-b6ba-bad3c5871c09"
      },
      "execution_count": 5,
      "outputs": [
        {
          "output_type": "stream",
          "name": "stdout",
          "text": [
            "             S                     \n",
            "          ___|_______________       \n",
            "         A                   |     \n",
            "  _______|___                |      \n",
            " |           S               |     \n",
            " |    _______|___            |      \n",
            " |   |           B           B     \n",
            " |   |        ___|___     ___|___   \n",
            " |   A       |       A   |       A \n",
            " |   |       |       |   |       |  \n",
            " a   a       b       a   b       a \n",
            "\n"
          ]
        }
      ]
    },
    {
      "cell_type": "markdown",
      "source": [
        "```\n",
        "        S\n",
        "       / \\\n",
        "      A   B\n",
        "     /   / \\\n",
        "    a   b   A\n",
        "   /       /\n",
        "  S       a\n",
        " / \\\n",
        "A   B\n",
        "|   / \\\n",
        "a   b   A\n",
        "        |\n",
        "        a\n",
        "```"
      ],
      "metadata": {
        "id": "77Ur2yG4mIK3"
      }
    },
    {
      "cell_type": "code",
      "source": [
        "from nltk.grammar import CFG, Nonterminal\n",
        "from nltk.tree import Tree\n",
        "\n",
        "def is_compatible(tree, grammar):\n",
        "    # Base case: if the tree is a leaf, it must be a terminal symbol\n",
        "    if isinstance(tree, str):\n",
        "        return tree\n",
        "\n",
        "    # Recursive case: check that there is a production that matches this subtree\n",
        "    lhs = Nonterminal(tree.label())\n",
        "    rhs = [is_compatible(child, grammar) for child in tree]\n",
        "\n",
        "    # Check against the CFG's production rules\n",
        "    for production in grammar.productions(lhs=lhs):\n",
        "        if production.rhs() == tuple(rhs):\n",
        "            return lhs\n",
        "\n",
        "    return False\n",
        "\n",
        "# Define the grammar\n",
        "grammar = CFG.fromstring(\"\"\"\n",
        "    S -> A B\n",
        "    A -> 'a' S | 'a'\n",
        "    B -> 'b' A\n",
        "\"\"\")\n",
        "\n",
        "# Define the parse tree\n",
        "parse_tree = Tree('S', [\n",
        "    Tree('A', [\n",
        "        'a',\n",
        "        Tree('S', [\n",
        "            Tree('A', ['a']),\n",
        "            Tree('B', [\n",
        "                'b',\n",
        "                Tree('A', ['a'])\n",
        "            ])\n",
        "        ])\n",
        "    ]),\n",
        "    Tree('B', [\n",
        "        'b',\n",
        "        Tree('A', ['a'])\n",
        "    ])\n",
        "])\n",
        "\n",
        "# Check if the tree is compatible with the grammar\n",
        "if is_compatible(parse_tree, grammar):\n",
        "    print(\"The parse tree is compatible with the grammar.\")\n",
        "else:\n",
        "    print(\"The parse tree is not compatible with the grammar.\")\n"
      ],
      "metadata": {
        "colab": {
          "base_uri": "https://localhost:8080/"
        },
        "id": "SI6n1OHaAJLc",
        "outputId": "b5d69764-dd5d-4cc6-c3c5-aa6a27c7ef97"
      },
      "execution_count": 2,
      "outputs": [
        {
          "output_type": "stream",
          "name": "stdout",
          "text": [
            "The parse tree is compatible with the grammar.\n"
          ]
        }
      ]
    },
    {
      "cell_type": "code",
      "source": [],
      "metadata": {
        "id": "BUEGDxKNoY3j"
      },
      "execution_count": null,
      "outputs": []
    }
  ]
}